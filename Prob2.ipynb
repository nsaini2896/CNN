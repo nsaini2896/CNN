{
  "nbformat": 4,
  "nbformat_minor": 0,
  "metadata": {
    "colab": {
      "name": "Prob2.ipynb",
      "provenance": [],
      "collapsed_sections": [],
      "toc_visible": true
    },
    "kernelspec": {
      "name": "python3",
      "display_name": "Python 3"
    },
    "language_info": {
      "name": "python"
    },
    "accelerator": "GPU"
  },
  "cells": [
    {
      "cell_type": "code",
      "metadata": {
        "colab": {
          "base_uri": "https://localhost:8080/"
        },
        "id": "20eiOJ_dZuc4",
        "outputId": "32457a43-2b94-477c-951b-ed18aa81fb2e"
      },
      "source": [
        "from google.colab import drive\n",
        "drive.mount('/content/drive')\n",
        "#drive.mount('/content/drive/MyDrive/data/train', force_remount=True)"
      ],
      "execution_count": null,
      "outputs": [
        {
          "output_type": "stream",
          "text": [
            "Mounted at /content/drive\n"
          ],
          "name": "stdout"
        }
      ]
    },
    {
      "cell_type": "code",
      "metadata": {
        "id": "Fa7j9O8BNYwd"
      },
      "source": [
        "from keras.models import Sequential\n",
        "from keras.layers import Conv2D, MaxPooling2D, Dense, Flatten, Dropout\n",
        "from keras.preprocessing.image import ImageDataGenerator\n",
        "\n",
        "\n",
        "src_path_train = \"drive/MyDrive/data/train\"\n",
        "src_path_test = \"drive/MyDrive/data/test\"\n",
        "\n",
        "train_datagen = ImageDataGenerator(\n",
        "        rescale=1 / 255.0,\n",
        "        rotation_range=20,\n",
        "        zoom_range=0.05,\n",
        "        width_shift_range=0.05,\n",
        "        height_shift_range=0.05,\n",
        "        shear_range=0.05,\n",
        "        horizontal_flip=True,\n",
        "        fill_mode=\"nearest\",\n",
        "        validation_split=0.20)\n",
        "\n",
        "test_datagen = ImageDataGenerator(rescale=1 / 255.0)"
      ],
      "execution_count": null,
      "outputs": []
    },
    {
      "cell_type": "code",
      "metadata": {
        "id": "RZNn5SWxNr50",
        "colab": {
          "base_uri": "https://localhost:8080/"
        },
        "outputId": "5378c3a1-ccaf-413c-de11-06a3b0606492"
      },
      "source": [
        "batch_size = 10\n",
        "train_generator = train_datagen.flow_from_directory(\n",
        "    directory=src_path_train,\n",
        "    target_size=(590, 445),\n",
        "    color_mode=\"rgb\",\n",
        "    batch_size=batch_size,\n",
        "    class_mode=\"categorical\",\n",
        "    subset='training',\n",
        "    shuffle=True,\n",
        "    seed=42\n",
        ")\n",
        "valid_generator = train_datagen.flow_from_directory(\n",
        "    directory=src_path_train,\n",
        "    target_size=(590, 445),\n",
        "    color_mode=\"rgb\",\n",
        "    batch_size=batch_size,\n",
        "    class_mode=\"categorical\",\n",
        "    subset='validation',\n",
        "    shuffle=True,\n",
        "    seed=42\n",
        ")\n",
        "test_generator = test_datagen.flow_from_directory(\n",
        "    directory=src_path_test,\n",
        "    target_size=(590, 445),\n",
        "    color_mode=\"rgb\",\n",
        "    batch_size=1,\n",
        "    class_mode=None,\n",
        "    shuffle=False,\n",
        "    seed=42\n",
        ")"
      ],
      "execution_count": null,
      "outputs": [
        {
          "output_type": "stream",
          "text": [
            "Found 1086 images belonging to 10 classes.\n",
            "Found 271 images belonging to 10 classes.\n",
            "Found 288 images belonging to 10 classes.\n"
          ],
          "name": "stdout"
        }
      ]
    },
    {
      "cell_type": "code",
      "metadata": {
        "id": "iaIsKT_5NwaR",
        "colab": {
          "base_uri": "https://localhost:8080/"
        },
        "outputId": "217df785-b315-4583-dfeb-a2f2c2040561"
      },
      "source": [
        "model = Sequential()\n",
        "model.add(Conv2D(64,kernel_size=(3,3),activation='relu'))\n",
        "model.add(MaxPooling2D(pool_size=(2, 2)))\n",
        "model.add(Flatten())\n",
        "model.add(Dense(32, activation='relu'))\n",
        "model.add(Dense(10, activation='sigmoid'))\n",
        "model.compile(loss=\"categorical_crossentropy\",optimizer=\"adam\",metrics=['accuracy'])\n",
        "#return model\n",
        "\n",
        "#model = prepare_model()\n",
        "model.fit_generator(train_generator,\n",
        "                    validation_data = train_generator,\n",
        "                    steps_per_epoch = train_generator.n//train_generator.batch_size,\n",
        "                    validation_steps = valid_generator.n//valid_generator.batch_size,\n",
        "                    epochs=10)"
      ],
      "execution_count": null,
      "outputs": [
        {
          "output_type": "stream",
          "text": [
            "/usr/local/lib/python3.7/dist-packages/tensorflow/python/keras/engine/training.py:1844: UserWarning: `Model.fit_generator` is deprecated and will be removed in a future version. Please use `Model.fit`, which supports generators.\n",
            "  warnings.warn('`Model.fit_generator` is deprecated and '\n"
          ],
          "name": "stderr"
        },
        {
          "output_type": "stream",
          "text": [
            "Epoch 1/10\n",
            "108/108 [==============================] - 463s 4s/step - loss: 24.9193 - accuracy: 0.1047 - val_loss: 2.2912 - val_accuracy: 0.1296\n",
            "Epoch 2/10\n",
            "108/108 [==============================] - 400s 4s/step - loss: 2.2890 - accuracy: 0.1218 - val_loss: 2.2820 - val_accuracy: 0.1148\n",
            "Epoch 3/10\n",
            "108/108 [==============================] - 399s 4s/step - loss: 2.2801 - accuracy: 0.1022 - val_loss: 2.2736 - val_accuracy: 0.1074\n",
            "Epoch 4/10\n",
            "108/108 [==============================] - 400s 4s/step - loss: 2.2722 - accuracy: 0.0922 - val_loss: 2.2669 - val_accuracy: 0.1037\n",
            "Epoch 5/10\n",
            "108/108 [==============================] - 398s 4s/step - loss: 2.2648 - accuracy: 0.1243 - val_loss: 2.2608 - val_accuracy: 0.0926\n",
            "Epoch 6/10\n",
            "108/108 [==============================] - 395s 4s/step - loss: 2.2589 - accuracy: 0.1288 - val_loss: 2.2549 - val_accuracy: 0.1222\n",
            "Epoch 7/10\n",
            "108/108 [==============================] - 394s 4s/step - loss: 2.2540 - accuracy: 0.1035 - val_loss: 2.2504 - val_accuracy: 0.1074\n",
            "Epoch 8/10\n",
            "108/108 [==============================] - 395s 4s/step - loss: 2.2492 - accuracy: 0.1143 - val_loss: 2.2456 - val_accuracy: 0.1074\n",
            "Epoch 9/10\n",
            "108/108 [==============================] - 393s 4s/step - loss: 2.2452 - accuracy: 0.1193 - val_loss: 2.2422 - val_accuracy: 0.1185\n",
            "Epoch 10/10\n",
            "108/108 [==============================] - 393s 4s/step - loss: 2.2415 - accuracy: 0.1176 - val_loss: 2.2381 - val_accuracy: 0.1370\n"
          ],
          "name": "stdout"
        },
        {
          "output_type": "execute_result",
          "data": {
            "text/plain": [
              "<tensorflow.python.keras.callbacks.History at 0x7f15862c3210>"
            ]
          },
          "metadata": {
            "tags": []
          },
          "execution_count": 8
        }
      ]
    },
    {
      "cell_type": "code",
      "metadata": {
        "id": "FK-VaEPaOLXf"
      },
      "source": [
        "#Summarize history for accuracy\n",
        " plt.plot(history.history['accuracy'])\n",
        "plt.plot(history.history['val_accuracy'])\n",
        "plt.title('model accuracy')\n",
        "plt.ylabel('accuracy')\n",
        "plt.xlabel('epoch')\n",
        "plt.legend(['train', 'test'], loc='upper left')\n",
        "plt.show()"
      ],
      "execution_count": null,
      "outputs": []
    },
    {
      "cell_type": "code",
      "metadata": {
        "id": "neiiuRWLFyh3"
      },
      "source": [
        "# summarize history for loss\n",
        "plt.plot(history.history['loss'])\n",
        "plt.plot(history.history['val_loss'])\n",
        "plt.title('model loss')\n",
        "plt.ylabel('loss')\n",
        "plt.xlabel('epoch')\n",
        "plt.legend(['train', 'test'], loc='upper left')\n",
        "plt.show()"
      ],
      "execution_count": null,
      "outputs": []
    }
  ]
}